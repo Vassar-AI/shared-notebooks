{
 "cells": [
  {
   "cell_type": "markdown",
   "metadata": {},
   "source": [
    "# A Good Baseline MNIST Classifier\n",
    "\n",
    "In Jeremy Howard's fastai lecture #3, (see the full course at [fast.ai](https://course.fast.ai/)), he mentions the importance of baselines.\n",
    "That is, when you set out to create a classifier that does something non-trivial (intelligent even), make sure that the intelligence-measuring stick you use isn't as dumb as a rock.\n",
    "For example, while we were grad students at MIT, Ali led several discussion and lab sessions.\n",
    "In these sessions, baselines were discussed; and you'd be surprised to see how often people suggested \"randomly selecting\".\n",
    "That's a *terrible* baseline!\n",
    "In fact, generally speaking, choosing the most commonly seen example tends to be better than random sampling!\n",
    "\n",
    "Okay.\n",
    "So, baselines are important.\n",
    "Back to fastai.\n",
    "\n",
    "In the lecture, Howard mentions chosing a good baseline and suggest the following for MNIST:\n",
    "What if you take a \"mean digit\" (or \"average digit\") for each of the ten digits from 0 to 9.\n",
    "Then, for a given testing example, determine which mean it is closest to.\n",
    "This seemed like a good idea for a simple baseline, so I decided to write it.\n",
    "\n",
    "## Prepping the Data"
   ]
  },
  {
   "cell_type": "code",
   "execution_count": 1,
   "metadata": {},
   "outputs": [],
   "source": [
    "import fastbook\n",
    "fastbook.setup_book()\n",
    "\n",
    "from fastai.vision.all import *\n",
    "from fastbook import *\n",
    "\n",
    "from fastai.vision.widgets import HBox, widget\n",
    "\n",
    "matplotlib.rc('image', cmap='Greys')"
   ]
  },
  {
   "cell_type": "markdown",
   "metadata": {},
   "source": [
    "Step 1 in any machine learning or AI task is collecting and preparing the testing data.\n",
    "Lucky for us, fastai provides many useful functions to help us along with the MNIST data.\n",
    "Among those are `untar_data` and the `URLs` class."
   ]
  },
  {
   "cell_type": "code",
   "execution_count": 2,
   "metadata": {},
   "outputs": [
    {
     "data": {
      "text/plain": [
       "Path('/jupyter/cache/data/mnist_png')"
      ]
     },
     "execution_count": 2,
     "metadata": {},
     "output_type": "execute_result"
    }
   ],
   "source": [
    "path = untar_data(URLs.MNIST)\n",
    "\n",
    "path # let's see where it saved to"
   ]
  },
  {
   "cell_type": "markdown",
   "metadata": {},
   "source": [
    "Great!\n",
    "Now we have the data untarred and ready to go on disk.\n",
    "But we still have to generate the \"average digit\" or \"ideal digit\" for each of the ten digits, `0` through `9`.\n",
    "To do that, we'll create a function, `make_mean`, that grabs each training example of a given type and does a pixel-wise average of each."
   ]
  },
  {
   "cell_type": "code",
   "execution_count": 3,
   "metadata": {},
   "outputs": [],
   "source": [
    "def make_mean(path, i):\n",
    "    '''Given a label, `i`, and location, `path`, generate the \"average digit\" for each digit, `i`.'''\n",
    "    files = (path/'training'/str(i)).ls().sorted()\n",
    "    tensors = [tensor(Image.open(f)) for f in files]\n",
    "    stacked = torch.stack(tensors).float()/255\n",
    "    mean = stacked.mean(0)\n",
    "    return mean"
   ]
  },
  {
   "cell_type": "markdown",
   "metadata": {},
   "source": [
    "Then (of course) we call `make_mean` for each of the digits $\\texttt{i} \\in [0,9]$"
   ]
  },
  {
   "cell_type": "code",
   "execution_count": 4,
   "metadata": {},
   "outputs": [],
   "source": [
    "means = torch.stack([make_mean(path, i) for i in range(10)])"
   ]
  },
  {
   "cell_type": "markdown",
   "metadata": {},
   "source": [
    "Now we have the \"mean images\"."
   ]
  },
  {
   "cell_type": "code",
   "execution_count": 5,
   "metadata": {},
   "outputs": [
    {
     "data": {
      "image/png": "[encoded data removed]",
      "text/plain": [
       "<Figure size 2160x216 with 10 Axes>"
      ]
     },
     "metadata": {
      "needs_background": "light"
     },
     "output_type": "display_data"
    }
   ],
   "source": [
    "show_images(means)"
   ]
  },
  {
   "cell_type": "markdown",
   "metadata": {},
   "source": [
    "And indeed, this passes the sniff test!\n",
    "These \"mean digits\" are very much as I'd picture the \"ideal numbers\" in my head.\n",
    "Especially that 2 and that 6!\n",
    "Man, I wish I could draw a 6 that perfectly ...\n",
    "\n",
    "Now that we have the ideal digits, we can even start to get a sense for what our training data looks like.\n",
    "For example, notice that the 1 kind of resmebles a capitol I?\n",
    "That must be because some people draw 1s slanted more in one direction, while others tend to draw their 1s slanted in the opposite direction.\n",
    "As we can see, the net result is an I-like shape.\n",
    "\n",
    "## Testing\n",
    "\n",
    "Moving on, we want to find a decent loss function to use as a metric for determining which ideal digit a given test example most closely resembles.\n",
    "Some good candidates are the $L_1$ and $L_2$ norms.\n",
    "Given the mean image we're comparing against, $m$, and the training sample we want to compare, $x$, we can write:\n",
    "\n",
    "$$ L_1 = \\sum_{i,j} |m_{i,j} - x_{i,j}| \\qquad L_2 = \\sqrt{\\sum_{i,j} (m_{i,j} - x_{i,j})^2} $$\n",
    "\n",
    "Where $i$ and $j$ are the pixel indecies into an image.\n",
    "\n",
    "This next cell defines both the $L_1$ and the $L_2$ norms.\n",
    "Note that pytorch allows us to make this much simpler by overloading `-` and `*` to stand for element-wise subtraction and multiplication, respectively."
   ]
  },
  {
   "cell_type": "code",
   "execution_count": 6,
   "metadata": {},
   "outputs": [],
   "source": [
    "def l1_norm(m, x): return (m - x).abs().mean((-1, -2))\n",
    "\n",
    "def l2_norm(m, x): return ((m - x)**2).sqrt().mean((-1, -2))"
   ]
  },
  {
   "cell_type": "markdown",
   "metadata": {},
   "source": [
    "Now before we can actually do the testing, we need to load in the testing data.\n",
    "Much like before, we just pull these from disk and store them as tensors."
   ]
  },
  {
   "cell_type": "code",
   "execution_count": 7,
   "metadata": {
    "scrolled": true
   },
   "outputs": [],
   "source": [
    "testing = [\n",
    "    torch.stack([\n",
    "        tensor(Image.open(f))\n",
    "        for f in (path/'testing'/str(i)).ls().sorted()\n",
    "    ]).float()/255\n",
    "    for i in range(10)\n",
    "]"
   ]
  },
  {
   "cell_type": "markdown",
   "metadata": {},
   "source": [
    "And lo and behold, we see that we have varying numbers of each type of digit."
   ]
  },
  {
   "cell_type": "code",
   "execution_count": 8,
   "metadata": {},
   "outputs": [
    {
     "data": {
      "text/plain": [
       "[torch.Size([980, 28, 28]),\n",
       " torch.Size([1135, 28, 28]),\n",
       " torch.Size([1032, 28, 28]),\n",
       " torch.Size([1010, 28, 28]),\n",
       " torch.Size([982, 28, 28]),\n",
       " torch.Size([892, 28, 28]),\n",
       " torch.Size([958, 28, 28]),\n",
       " torch.Size([1028, 28, 28]),\n",
       " torch.Size([974, 28, 28]),\n",
       " torch.Size([1009, 28, 28])]"
      ]
     },
     "execution_count": 8,
     "metadata": {},
     "output_type": "execute_result"
    }
   ],
   "source": [
    "[t.shape for t in testing]"
   ]
  },
  {
   "cell_type": "markdown",
   "metadata": {},
   "source": [
    "Now, because I've always been a fan of the sniff test, I think it'd be good to have a look at what these loss functions do to our testing data."
   ]
  },
  {
   "cell_type": "code",
   "execution_count": 9,
   "metadata": {},
   "outputs": [
    {
     "data": {
      "image/png": "[encoded data removed]",
      "text/plain": [
       "<Figure size 1296x216 with 6 Axes>"
      ]
     },
     "metadata": {
      "needs_background": "light"
     },
     "output_type": "display_data"
    },
    {
     "data": {
      "image/png": "[encoded data removed]",
      "text/plain": [
       "<Figure size 1296x216 with 6 Axes>"
      ]
     },
     "metadata": {
      "needs_background": "light"
     },
     "output_type": "display_data"
    },
    {
     "data": {
      "image/png": "[encoded data removed]",
      "text/plain": [
       "<Figure size 1296x216 with 6 Axes>"
      ]
     },
     "metadata": {
      "needs_background": "light"
     },
     "output_type": "display_data"
    },
    {
     "data": {
      "image/png": "[encoded data removed]",
      "text/plain": [
       "<Figure size 1296x216 with 6 Axes>"
      ]
     },
     "metadata": {
      "needs_background": "light"
     },
     "output_type": "display_data"
    },
    {
     "data": {
      "image/png": "[encoded data removed]",
      "text/plain": [
       "<Figure size 1296x216 with 6 Axes>"
      ]
     },
     "metadata": {
      "needs_background": "light"
     },
     "output_type": "display_data"
    }
   ],
   "source": [
    "def sniff_test(m, d, i):\n",
    "    '''\n",
    "    m: Mean digit to use\n",
    "    d: Digit to test on\n",
    "    i: Index of the testing digit.\n",
    "    '''\n",
    "\n",
    "    _m = means[m]\n",
    "    t = testing[d][i]\n",
    "    l1= (_m-t).abs()\n",
    "    l2= ((_m-t)**2).sqrt()\n",
    "\n",
    "    show_images((_m, t, _m*_m, t*t, l1, l2),\n",
    "                titles=[\n",
    "                    'Mean '+str(m),\n",
    "                    'Example of '+str(d),\n",
    "                    'Mean$^2$',\n",
    "                    'Example$^2$',\n",
    "                    '$L_1$ norm',\n",
    "                    '$L_2$ norm',\n",
    "                ])\n",
    "\n",
    "sniff_test(1, 7, 200)\n",
    "sniff_test(2, 2, 50)\n",
    "sniff_test(5, 6, 101)\n",
    "sniff_test(8, 0, 42)\n",
    "sniff_test(9, 9, 40)"
   ]
  },
  {
   "cell_type": "markdown",
   "metadata": {},
   "source": [
    "Now we run the \"classifier\" on each element of the testing set.\n",
    "The result of each step should be a rank-1 tensor with 10 elements, one for each digit.\n",
    "These values store our loss for each digit.\n",
    "\n",
    "Since we wrote both `l1_norm` and `l2_norm`, let's do the evaluation for both."
   ]
  },
  {
   "cell_type": "code",
   "execution_count": 10,
   "metadata": {},
   "outputs": [],
   "source": [
    "def evaluate(loss, data):\n",
    "    return [\n",
    "        torch.stack([loss(means, t) for t in subset])\n",
    "        for subset in data\n",
    "    ]\n",
    "\n",
    "l1_results = evaluate(l1_norm, testing)\n",
    "l2_results = evaluate(l2_norm, testing)"
   ]
  },
  {
   "cell_type": "markdown",
   "metadata": {},
   "source": [
    "Another sanity check: the shapes of the resulting `*_results` lists should be identical:"
   ]
  },
  {
   "cell_type": "code",
   "execution_count": 11,
   "metadata": {},
   "outputs": [
    {
     "data": {
      "application/vnd.jupyter.widget-view+json": {
       "model_id": "4e89043542cd46ef8dcf3fca5210838b",
       "version_major": 2,
       "version_minor": 0
      },
      "text/plain": [
       "HBox(children=(Output(), Output()))"
      ]
     },
     "metadata": {},
     "output_type": "display_data"
    }
   ],
   "source": [
    "HBox((widget([r.shape for r in l1_results]), widget([r.shape for r in l2_results])))"
   ]
  },
  {
   "cell_type": "markdown",
   "metadata": {},
   "source": [
    "Now we make confusion matricies for of all the results we computed in the last step."
   ]
  },
  {
   "cell_type": "code",
   "execution_count": 12,
   "metadata": {},
   "outputs": [],
   "source": [
    "def make_conf_mat(results):\n",
    "    return tensor([\n",
    "        [sum(1 for r in results[e] if r.argmin() == a) for a in range(10)]\n",
    "        for e in range(10)    \n",
    "    ])\n",
    "\n",
    "l1_conf_mat = make_conf_mat(l1_results)\n",
    "l2_conf_mat = make_conf_mat(l2_results)"
   ]
  },
  {
   "cell_type": "markdown",
   "metadata": {},
   "source": [
    "Let's graph them both to compare!"
   ]
  },
  {
   "cell_type": "code",
   "execution_count": 13,
   "metadata": {},
   "outputs": [
    {
     "data": {
      "application/vnd.jupyter.widget-view+json": {
       "model_id": "f246e5093e5b430cae3deee899235f60",
       "version_major": 2,
       "version_minor": 0
      },
      "text/plain": [
       "HBox(children=(Output(), Output()))"
      ]
     },
     "metadata": {},
     "output_type": "display_data"
    }
   ],
   "source": [
    "def to_table(mat):\n",
    "    df = pd.DataFrame(mat)\n",
    "    return widget(df.style.set_properties(**{'font-size':'12pt'}).background_gradient('Greys'))\n",
    "\n",
    "HBox((to_table(l1_conf_mat), to_table(l2_conf_mat)))"
   ]
  },
  {
   "cell_type": "markdown",
   "metadata": {},
   "source": [
    "And lo!\n",
    "They are the same confusion matrixes!\n",
    "\n",
    "Indeed, we can ensure this with a simple:"
   ]
  },
  {
   "cell_type": "code",
   "execution_count": 14,
   "metadata": {},
   "outputs": [
    {
     "data": {
      "text/plain": [
       "True"
      ]
     },
     "execution_count": 14,
     "metadata": {},
     "output_type": "execute_result"
    }
   ],
   "source": [
    "reduce(lambda a,b: a and b, (l1_conf_mat == l2_conf_mat)[0]).item()"
   ]
  },
  {
   "cell_type": "markdown",
   "metadata": {},
   "source": [
    "And that makes sense!\n",
    "In the $L_1$ and $L_2$ norms we have qualitatively similar metrics.\n",
    "They both determine similar things to be similiar and similar ways.\n",
    "\n",
    "So, going forward, we'll use only the first confusion matrix, `l1_conf_mat`.\n",
    "And we'll rename it to `cm`."
   ]
  },
  {
   "cell_type": "code",
   "execution_count": 15,
   "metadata": {},
   "outputs": [],
   "source": [
    "cm = l1_conf_mat"
   ]
  },
  {
   "cell_type": "markdown",
   "metadata": {},
   "source": [
    "# Statistics\n",
    "\n",
    "With all this data, we can compute some simple stats.\n",
    "In case it's been a while, here are the stats we'll compute:\n",
    "\n",
    "$$\\textrm{Accuracy} = \\frac{\\textrm{True}}{\\textrm{All}}\n",
    "\\qquad\n",
    "\\textrm{Sensitivity} = \\frac{T_+}{T_+ + F_-}\n",
    "\\qquad\n",
    "\\textrm{Specificity} = \\frac{T_-}{T_- + F_+}$$"
   ]
  },
  {
   "cell_type": "code",
   "execution_count": 16,
   "metadata": {},
   "outputs": [],
   "source": [
    "def compute_stats(cm):\n",
    "    acc = [\n",
    "        (cm[i,i] + sum(v for k,row in enumerate(cm)\n",
    "                         for j,v in enumerate(row)\n",
    "                         if j != i and k != i)) / cm.sum()\n",
    "        for i,_ in enumerate(cm)\n",
    "    ]\n",
    "\n",
    "    sen = [cm[i,i] / cm[i].sum() for i,_ in enumerate(cm)]\n",
    "\n",
    "    def comp_spe(idx):\n",
    "        true_neg = sum(v for i, row in enumerate(cm)\n",
    "                         for j, v in enumerate(row)\n",
    "                         if i != idx and j != idx)\n",
    "        return true_neg / (true_neg + cm[:,idx].sum() - cm[idx,idx])\n",
    "\n",
    "    spe = [comp_spe(i) for i,_ in enumerate(cm)]\n",
    "    \n",
    "    return acc, sen, spe\n",
    "\n",
    "acc, sen, spe = compute_stats(cm)"
   ]
  },
  {
   "cell_type": "code",
   "execution_count": 17,
   "metadata": {
    "scrolled": true
   },
   "outputs": [
    {
     "data": {
      "application/vnd.jupyter.widget-view+json": {
       "model_id": "3a8773614dcf41c9b958034a77bdd230",
       "version_major": 2,
       "version_minor": 0
      },
      "text/plain": [
       "Output()"
      ]
     },
     "metadata": {},
     "output_type": "display_data"
    }
   ],
   "source": [
    "def display_stats(acc, sen, spe):\n",
    "    df = pd.DataFrame(torch.stack(list(map(tensor, zip(acc, sen, spe))))*100,\n",
    "                      columns=['Accuracy', 'Sensitivity', 'Specificity'])\n",
    "    return widget(df.style.set_properties(**{'font-size':'12pt'}).format('{:.1f}%'))\n",
    "    \n",
    "display_stats(acc, sen, spe)"
   ]
  },
  {
   "cell_type": "markdown",
   "metadata": {},
   "source": [
    "# Conclusion\n",
    "\n",
    "So the takeaway here is that, if you make some classifier that you think is the best thing since sliced bread because (for example) you get a **95% accuracy** on recognizing 0s, well think again.\n",
    "That 95% accuracy doesn't even outperform this simple classifier that takes nearly no time to run.\n",
    "So always remember: *choose a good baseline*.\n",
    "\n",
    "# Some \"extra credit\"\n",
    "\n",
    "For kicks, why don't we take a look at how well this baseline performs on the same data as it was trained on?\n",
    "By now, you know the drill ..."
   ]
  },
  {
   "cell_type": "code",
   "execution_count": 18,
   "metadata": {},
   "outputs": [
    {
     "data": {
      "application/vnd.jupyter.widget-view+json": {
       "model_id": "a70a5654272944f8ad2fb7736c07a958",
       "version_major": 2,
       "version_minor": 0
      },
      "text/plain": [
       "HBox(children=(Output(), Output()))"
      ]
     },
     "metadata": {},
     "output_type": "display_data"
    }
   ],
   "source": [
    "# Read in the data.\n",
    "data = [\n",
    "    torch.stack([\n",
    "        tensor(Image.open(f))\n",
    "        for f in (path/'training'/str(i)).ls().sorted()\n",
    "    ]).float()/255\n",
    "    for i in range(10)\n",
    "]\n",
    "\n",
    "# Evaluate the results.\n",
    "results = evaluate(l1_norm, data)\n",
    "\n",
    "# Build the confusion matrix.\n",
    "cm = make_conf_mat(results)\n",
    "\n",
    "# Compute the stats.\n",
    "acc, sen, spe = compute_stats(cm)\n",
    "\n",
    "# Display both!\n",
    "HBox((to_table(cm), display_stats(acc, sen, spe)))"
   ]
  },
  {
   "cell_type": "markdown",
   "metadata": {},
   "source": [
    "Unsurprisingly, this doesn't perform much differently than on the testing data."
   ]
  }
 ],
 "metadata": {
  "jupytext": {
   "split_at_heading": true
  },
  "kernelspec": {
   "display_name": "Python 3",
   "language": "python",
   "name": "python3"
  },
  "language_info": {
   "codemirror_mode": {
    "name": "ipython",
    "version": 3
   },
   "file_extension": ".py",
   "mimetype": "text/x-python",
   "name": "python",
   "nbconvert_exporter": "python",
   "pygments_lexer": "ipython3",
   "version": "3.8.5"
  }
 },
 "nbformat": 4,
 "nbformat_minor": 4
}
